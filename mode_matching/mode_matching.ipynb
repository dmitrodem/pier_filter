{
 "cells": [
  {
   "cell_type": "code",
   "execution_count": 2,
   "metadata": {
    "collapsed": false,
    "deletable": true,
    "editable": true
   },
   "outputs": [
    {
     "name": "stdout",
     "output_type": "stream",
     "text": [
      "Using matplotlib backend: Qt5Agg\n",
      "Populating the interactive namespace from numpy and matplotlib\n"
     ]
    }
   ],
   "source": [
    "%pylab\n",
    "%matplotlib inline"
   ]
  },
  {
   "cell_type": "markdown",
   "metadata": {
    "deletable": true,
    "editable": true
   },
   "source": [
    "Объявляем всякие полезные константы:\n",
    "1. $a$ — ширина широкой секции волновода, $M$ — число учитываемых мод\n",
    "2. $b$ — ширина узкой секции волновода, $N$ — число учитываемых мод\n",
    "3. $f$ — частота (на самом деле, используется параметр $f = F/c_0$, критическое значение параметра $f_c = \\frac{1}{2 a}$)"
   ]
  },
  {
   "cell_type": "code",
   "execution_count": 79,
   "metadata": {
    "collapsed": false,
    "deletable": true,
    "editable": true
   },
   "outputs": [],
   "source": [
    "a = 1.000+0j; M = 200\n",
    "b = 0.500+0j; N = 100\n",
    "f = 3.0\n",
    "\n",
    "assert(abs(a) >= abs(b))"
   ]
  },
  {
   "cell_type": "markdown",
   "metadata": {
    "deletable": true,
    "editable": true
   },
   "source": [
    "Собственная функция $$f_n^a (x) = \\sqrt{\\frac{2}{a}} \\cos {\\frac{\\pi n x}{a}} $$"
   ]
  },
  {
   "cell_type": "code",
   "execution_count": 80,
   "metadata": {
    "collapsed": true,
    "deletable": true,
    "editable": true
   },
   "outputs": [],
   "source": [
    "def eigenfunction(n, a, x):\n",
    "    n = 2*n + 1\n",
    "    return sqrt(2.0/a) * cos(pi * n * x/a)"
   ]
  },
  {
   "cell_type": "markdown",
   "metadata": {
    "deletable": true,
    "editable": true
   },
   "source": [
    "Матричный элемент (считаем, что $a \\ge b$) $$V_{mn} = \\int\\limits_{-b/2}^{b/2} f_m^a (x) f_n^b(x) d x = \n",
    "\\begin{cases}\n",
    "\\frac{4}{\\pi} b^{-3/2} a^{-1/2} n \\frac{(-1)^{(n-1)/2}}{\\left(\\frac{n}{b}\\right)^2 - \\left(\\frac{m}{a}\\right)^2} \\cos{\\left(\\frac{\\pi}{2} \\frac{b}{a} m\\right)},\\ если \\frac{n}{b} \\ne \\frac{m}{a} \\\\\n",
    "\\frac{b}{a}\\ в~противном~случае\n",
    "\\end{cases}\n",
    "$$ \n"
   ]
  },
  {
   "cell_type": "code",
   "execution_count": 81,
   "metadata": {
    "collapsed": true,
    "deletable": true,
    "editable": true
   },
   "outputs": [],
   "source": [
    "def _V(a, b, m, n):\n",
    "    _n = n\n",
    "    m = 2*m + 1\n",
    "    n = 2*n + 1\n",
    "    if (m/a == n/b):\n",
    "        return sqrt(b/a)\n",
    "    else:\n",
    "        return 4.0/pi * b**(-1.5) * a**(-0.5) * n * (-1)**_n * cos(0.5*pi*b/a*m) / ((n/b)**2 - (m/a)**2)\n",
    "    \n",
    "V = vectorize(_V)"
   ]
  },
  {
   "cell_type": "code",
   "execution_count": 82,
   "metadata": {
    "collapsed": false,
    "deletable": true,
    "editable": true
   },
   "outputs": [
    {
     "data": {
      "text/plain": [
       "<matplotlib.image.AxesImage at 0x7ff9a1421bd0>"
      ]
     },
     "execution_count": 82,
     "metadata": {},
     "output_type": "execute_result"
    },
    {
     "data": {
      "image/png": "[encoded data removed]",
      "text/plain": [
       "<matplotlib.figure.Figure at 0x7ff9a14e2f50>"
      ]
     },
     "metadata": {},
     "output_type": "display_data"
    }
   ],
   "source": [
    "Vmn = fromfunction(lambda m, n: V(a, b, m, n), (M, N))\n",
    "matshow(abs(Vmn))"
   ]
  },
  {
   "cell_type": "markdown",
   "metadata": {
    "deletable": true,
    "editable": true
   },
   "source": [
    "На всякий случай проверим напрямую интегрированием"
   ]
  },
  {
   "cell_type": "code",
   "execution_count": 83,
   "metadata": {
    "collapsed": false,
    "deletable": true,
    "editable": true,
    "scrolled": true
   },
   "outputs": [],
   "source": [
    "do_numeric_verification = False\n",
    "\n",
    "if do_numeric_verification:\n",
    "    from scipy.integrate import quad\n",
    "    tmp = lambda m, n: quad(lambda x: eigenfunction(m, a, x) * eigenfunction(n, b, x), -a/2, a/2)[0]\n",
    "    verif_Vmn = fromfunction(vectorize(tmp), (M, N))\n",
    "    assert(allclose(Vmn, verif_Vmn))"
   ]
  },
  {
   "cell_type": "markdown",
   "metadata": {
    "deletable": true,
    "editable": true
   },
   "source": [
    "Теперь — коэффициенты в уравнениях для магнитных полей $\\Gamma(n, a)$"
   ]
  },
  {
   "cell_type": "code",
   "execution_count": 84,
   "metadata": {
    "collapsed": false,
    "deletable": true,
    "editable": true
   },
   "outputs": [],
   "source": [
    "def Gamma(n, a):\n",
    "    n = 2*n + 1\n",
    "    return sqrt(1.0 - (n/(a*f))**2)\n",
    "\n",
    "Gamma_a = fromfunction(lambda n: Gamma(n, a), (M,))\n",
    "Gamma_b = fromfunction(lambda n: Gamma(n, b), (N,))"
   ]
  },
  {
   "cell_type": "markdown",
   "metadata": {
    "deletable": true,
    "editable": true
   },
   "source": [
    "Коэффициенты в уравнении\n",
    "\\begin{equation}\n",
    "\\begin{cases}\n",
    "\\mathbf{A} \\left( A^{(1)}) + B^{(1)} \\right) = \\mathbf{B} \\left(A^{(2)} + B^{(2)}\\right)\\ (электрическое~поле) \\\\\n",
    "\\mathbf{C} \\left( -A^{(1)} + B^{(1)} \\right) = \\mathbf{D} \\left(A^{(2)} - B^{(2)}\\right)\\ (магнитное~поле)\n",
    "\\end{cases}\n",
    "\\end{equation}\n",
    "\n",
    "Размерности матриц:\n",
    "1. $A$ — $M \\times M$\n",
    "2. $B$ — $M \\times N$\n",
    "3. $C$ — $N \\times M$\n",
    "4. $D$ — $N \\times N$\n",
    "\n",
    "Таким образом, вполне определены только $A^{-1}$ и $D^{-1}$"
   ]
  },
  {
   "cell_type": "code",
   "execution_count": 85,
   "metadata": {
    "collapsed": false,
    "deletable": true,
    "editable": true
   },
   "outputs": [],
   "source": [
    "A = eye(M)\n",
    "#B = fromfunction(lambda m, n: V(a, b, m, n), (M, N))\n",
    "B = Vmn\n",
    "#C = fromfunction(lambda n, m: Gamma(m, a)/Gamma(n, b) * V(a, b, m, n), (N, M))\n",
    "C = Vmn.T * Gamma_a/Gamma_b.reshape(-1, 1)\n",
    "D = eye(N)\n",
    "\n",
    "# проверяем размерности матриц\n",
    "assert(A.shape == (M, M))\n",
    "assert(B.shape == (M, N))\n",
    "assert(C.shape == (N, M))\n",
    "assert(D.shape == (N, N))"
   ]
  },
  {
   "cell_type": "markdown",
   "metadata": {
    "deletable": true,
    "editable": true
   },
   "source": [
    "Для определения обобщенной $S$-матрицы запишем исходные уравнения для согласования мод так\n",
    "$$\n",
    "\\begin{bmatrix}\n",
    "\\mathbf{A} & \\mathbf{-B} \\\\\n",
    "\\mathbf{C} & \\mathbf{D}\n",
    "\\end{bmatrix}\n",
    "\\begin{pmatrix}\n",
    "B^{1} \\\\\n",
    "B^{2}\n",
    "\\end{pmatrix}\n",
    "=\n",
    "\\begin{bmatrix}\n",
    "\\mathbf{-A} & \\mathbf{B} \\\\\n",
    "\\mathbf{C} & \\mathbf{D}\n",
    "\\end{bmatrix}\n",
    "\\begin{pmatrix}\n",
    "A^{1} \\\\\n",
    "A^{2}\n",
    "\\end{pmatrix}\n",
    "$$\n",
    "\n",
    "Левую матрицу обозначим $P$, правую — $Q$. Их размерности — $(M+N) \\times (M+N)$. Искомая $S$ - матрица\n",
    "$$\n",
    "S = \n",
    "\\begin{bmatrix}\n",
    "S_{11} & S_{12} \\\\\n",
    "S_{21} & S_{22}\n",
    "\\end{bmatrix}\n",
    "= \\mathbf{P}^{-1} \\mathbf{Q}\n",
    "$$\n",
    "\n",
    "Размерности матриц\n",
    "1. $S_{11}$ — $M \\times M$"
   ]
  },
  {
   "cell_type": "code",
   "execution_count": 86,
   "metadata": {
    "collapsed": false,
    "deletable": true,
    "editable": true
   },
   "outputs": [],
   "source": [
    "P = zeros((M+N, M+N), dtype = complex)\n",
    "P[0:M, 0:M] = A\n",
    "P[0:M, M:M+N] = -B\n",
    "P[M:M+N, 0:M] = C\n",
    "P[M:M+N, M:M+N] = D\n",
    "\n",
    "Q = zeros((M+N, M+N), dtype = complex)\n",
    "Q[0:M, 0:M] = -A\n",
    "Q[0:M, M:M+N] = B\n",
    "Q[M:M+N, 0:M] = C\n",
    "Q[M:M+N, M:M+N] = D\n"
   ]
  },
  {
   "cell_type": "code",
   "execution_count": 87,
   "metadata": {
    "collapsed": false,
    "deletable": true,
    "editable": true
   },
   "outputs": [],
   "source": [
    "S = dot(inv(P), Q)\n",
    "\n",
    "S11 = S[0:M, 0:M]\n",
    "S12 = S[0:M, M:(M+N)]\n",
    "S21 = S[M:(M+N), 0:M]\n",
    "S22 = S[M:(M+N), M:(M+N)]"
   ]
  },
  {
   "cell_type": "markdown",
   "metadata": {
    "deletable": true,
    "editable": true
   },
   "source": [
    "Посчитаем матрицу рассеяния напрямую (без блочных матриц) и сравним результаты:"
   ]
  },
  {
   "cell_type": "code",
   "execution_count": 88,
   "metadata": {
    "collapsed": false,
    "deletable": true,
    "editable": true
   },
   "outputs": [],
   "source": [
    "X = dot(inv(A), B)\n",
    "Y = dot(inv(D), C)\n",
    "XY = dot(X, Y)\n",
    "YX = dot(Y, X)\n",
    "\n",
    "vS11 = dot(inv(eye(M) + XY), -eye(M) + XY)\n",
    "vS12 = 2 * dot(inv(eye(M) + XY), X)\n",
    "vS21 = 2 * dot(inv(eye(N) + YX), Y)\n",
    "vS22 = dot(inv(eye(N) + YX), eye(N) - YX)"
   ]
  },
  {
   "cell_type": "code",
   "execution_count": 89,
   "metadata": {
    "collapsed": false,
    "deletable": true,
    "editable": true
   },
   "outputs": [],
   "source": [
    "assert(allclose(vS11, S11))\n",
    "assert(allclose(vS12, S12))\n",
    "assert(allclose(vS21, S21))\n",
    "assert(allclose(vS22, S22))"
   ]
  },
  {
   "cell_type": "code",
   "execution_count": 90,
   "metadata": {
    "collapsed": false,
    "deletable": true,
    "editable": true
   },
   "outputs": [
    {
     "data": {
      "image/png": "[encoded data removed]",
      "text/plain": [
       "<matplotlib.figure.Figure at 0x7ff9c804e990>"
      ]
     },
     "metadata": {},
     "output_type": "display_data"
    },
    {
     "data": {
      "image/png": "[encoded data removed]",
      "text/plain": [
       "<matplotlib.figure.Figure at 0x7ff9a13ea950>"
      ]
     },
     "metadata": {},
     "output_type": "display_data"
    }
   ],
   "source": [
    "x = linspace(-0.5, 0.5, num=1001, dtype = complex)\n",
    "\n",
    "a1 = zeros(M); a1[0] = 1.0 \n",
    "b1 = dot(S11, a1)\n",
    "lhsE = 0j\n",
    "lhsH = 0j\n",
    "\n",
    "for i in xrange(M):\n",
    "    lhsE += a1[i] * eigenfunction(i, a, x)\n",
    "    lhsE += b1[i] * eigenfunction(i, a, x)\n",
    "    lhsH += -Gamma(i, a) * a1[i] * eigenfunction(i, a, x)\n",
    "    lhsH += +Gamma(i, a) * b1[i] * eigenfunction(i, a, x)\n",
    "\n",
    "b2 = dot(S21, a1)\n",
    "rhsE = 0j\n",
    "rhsH = 0j\n",
    "for i in xrange(N):\n",
    "    rhsE += b2[i] * eigenfunction(i, b, x)\n",
    "    rhsH += -Gamma(i, b) * b2[i] * eigenfunction(i, b, x)\n",
    "    \n",
    "figure()\n",
    "plot(x, abs(lhsE), label=\"LHS\")\n",
    "plot(x, abs(rhsE), label=\"RHS\")\n",
    "legend()\n",
    "title(\"E\")\n",
    "grid()\n",
    "\n",
    "figure()\n",
    "plot(x, abs(lhsH), label=\"LHS\")\n",
    "plot(x, abs(rhsH), label=\"RHS\")\n",
    "legend()\n",
    "title(\"H\")\n",
    "grid()"
   ]
  },
  {
   "cell_type": "code",
   "execution_count": 91,
   "metadata": {
    "collapsed": false,
    "deletable": true,
    "editable": true
   },
   "outputs": [],
   "source": [
    "from IPython.display import HTML, Math, display\n",
    "def display_array(A, fmt = \"%3.3f\"):\n",
    "    \"\"\"\n",
    "    Вывести в виде HTML-таблицы абсолютные значения матрицы A\n",
    "    \"\"\"\n",
    "    html = []\n",
    "    html.append(\"<table>\")\n",
    "    (i_max, j_max) = A.shape\n",
    "    for i in xrange(i_max):\n",
    "        html.append(\"<tr>\")\n",
    "        ll = []\n",
    "        for j in xrange(j_max):\n",
    "            ll.append((\"<td>\" + fmt + \"</td>\") % abs(A[i, j]))\n",
    "        html.append(\"\".join(ll))\n",
    "        html.append(\"</tr>\")\n",
    "    html.append(\"</table>\")\n",
    "    html_page = \"\".join(html)\n",
    "    display(HTML(html_page))"
   ]
  },
  {
   "cell_type": "markdown",
   "metadata": {
    "deletable": true,
    "editable": true
   },
   "source": [
    "Поглядим, что с балансом энергии:"
   ]
  },
  {
   "cell_type": "code",
   "execution_count": 92,
   "metadata": {
    "collapsed": false,
    "deletable": true,
    "editable": true,
    "scrolled": false
   },
   "outputs": [
    {
     "name": "stdout",
     "output_type": "stream",
     "text": [
      "6.51530243499e-16\n"
     ]
    }
   ],
   "source": [
    "S_rhs = dot(Gamma_a, (a1)**2 - (b1)**2)\n",
    "S_lhs = dot(Gamma_b, (b2)**2)\n",
    "\n",
    "print abs((S_rhs - S_lhs)/(S_rhs + S_lhs))"
   ]
  },
  {
   "cell_type": "code",
   "execution_count": 93,
   "metadata": {
    "collapsed": false,
    "deletable": true,
    "editable": true
   },
   "outputs": [
    {
     "data": {
      "text/latex": [
       "$$Коэффициент~отражения~S_{11} = -25.4~дБ, фаза: -141.9^{\\circ}$$"
      ],
      "text/plain": [
       "<IPython.core.display.Math object>"
      ]
     },
     "metadata": {},
     "output_type": "display_data"
    }
   ],
   "source": [
    "msg = r\"Коэффициент~отражения~S_{11} = %4.1f~дБ, фаза: %4.1f^{\\circ}\" % (20*log10(abs(S11[0,0])), rad2deg(angle(S11[0,0])))\n",
    "display(Math(msg))"
   ]
  },
  {
   "cell_type": "code",
   "execution_count": 94,
   "metadata": {
    "collapsed": false
   },
   "outputs": [
    {
     "data": {
      "text/plain": [
       "1060.3733323374574"
      ]
     },
     "execution_count": 94,
     "metadata": {},
     "output_type": "execute_result"
    }
   ],
   "source": [
    "import numpy.linalg as LA\n",
    "LA.cond(Q, p = inf) * LA.cond(P, p = inf)"
   ]
  },
  {
   "cell_type": "code",
   "execution_count": 95,
   "metadata": {
    "collapsed": false
   },
   "outputs": [
    {
     "data": {
      "text/plain": [
       "<matplotlib.image.AxesImage at 0x7ff9a14ad410>"
      ]
     },
     "execution_count": 95,
     "metadata": {},
     "output_type": "execute_result"
    },
    {
     "data": {
      "image/png": "[encoded data removed]",
      "text/plain": [
       "<matplotlib.figure.Figure at 0x7ff9a1587bd0>"
      ]
     },
     "metadata": {},
     "output_type": "display_data"
    }
   ],
   "source": [
    "matshow(abs(S))"
   ]
  },
  {
   "cell_type": "code",
   "execution_count": null,
   "metadata": {
    "collapsed": true
   },
   "outputs": [],
   "source": []
  }
 ],
 "metadata": {
  "kernelspec": {
   "display_name": "Python 2",
   "language": "python",
   "name": "python2"
  },
  "language_info": {
   "codemirror_mode": {
    "name": "ipython",
    "version": 2
   },
   "file_extension": ".py",
   "mimetype": "text/x-python",
   "name": "python",
   "nbconvert_exporter": "python",
   "pygments_lexer": "ipython2",
   "version": "2.7.12"
  }
 },
 "nbformat": 4,
 "nbformat_minor": 2
}
